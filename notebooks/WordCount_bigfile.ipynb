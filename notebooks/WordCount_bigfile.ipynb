{
 "cells": [
  {
   "cell_type": "markdown",
   "metadata": {},
   "source": [
    "# WordCount in PySpark"
   ]
  },
  {
   "cell_type": "markdown",
   "metadata": {},
   "source": [
    "This is the canonical WordCount example, that is often used to start with MapReduce.\n",
    "\n",
    "We will read a large text file (downloaded from the Gutenberg project), parse it and do some counting."
   ]
  },
  {
   "cell_type": "markdown",
   "metadata": {},
   "source": [
    "Let's first import the necessary modules and the Spark Context"
   ]
  },
  {
   "cell_type": "code",
   "execution_count": 1,
   "metadata": {
    "collapsed": true
   },
   "outputs": [],
   "source": [
    "import sys\n",
    "from pyspark import SparkContext\n",
    "import re"
   ]
  },
  {
   "cell_type": "markdown",
   "metadata": {},
   "source": [
    "Now we can write our WordCount program"
   ]
  },
  {
   "cell_type": "code",
   "execution_count": 2,
   "metadata": {
    "collapsed": true
   },
   "outputs": [],
   "source": [
    "def mapper(line):\n",
    "    words = re.split(\"\\W+\", line)\n",
    "    return [(w.lower(), 1) for w in words if w]\n",
    "\n",
    "lines = sc.textFile(\"hdfs://10.10.50.98/user/ubuntu/big.txt\")\n",
    "\n",
    "counts = lines.flatMap(mapper).reduceByKey(lambda a, b: a+b).filter(lambda x: x[1] >= 50)\n",
    "\n",
    "output = counts.collect()\n"
   ]
  },
  {
   "cell_type": "markdown",
   "metadata": {},
   "source": [
    "Now let's inspect the output"
   ]
  },
  {
   "cell_type": "markdown",
   "metadata": {},
   "source": [
    "Now, let's prepare the output to be plotted: we want to show the distribution of word frequency"
   ]
  },
  {
   "cell_type": "code",
   "execution_count": 4,
   "metadata": {},
   "outputs": [
    {
     "data": {
      "text/plain": [
       "[(u'the', 115989178),\n",
       " (u'of', 64346247),\n",
       " (u'and', 57548793),\n",
       " (u'to', 48155050),\n",
       " (u'a', 37386067),\n",
       " (u'in', 32661994),\n",
       " (u'that', 20770488),\n",
       " (u'i', 20655905),\n",
       " (u'he', 18462062),\n",
       " (u'was', 18054583),\n",
       " (u'it', 17997614),\n",
       " (u'his', 15158087),\n",
       " (u'with', 14468219),\n",
       " (u'is', 14461048),\n",
       " (u'for', 13806502),\n",
       " (u'as', 13602241),\n",
       " (u'you', 12238328),\n",
       " (u'had', 10564870),\n",
       " (u'be', 10453612),\n",
       " (u'not', 10445464)]"
      ]
     },
     "execution_count": 4,
     "metadata": {},
     "output_type": "execute_result"
    }
   ],
   "source": [
    "sortedOutput = sorted(output, key = lambda x: -x[1])[:20]\n",
    "sortedOutput"
   ]
  },
  {
   "cell_type": "markdown",
   "metadata": {},
   "source": [
    "Now we're ready to build our plot"
   ]
  },
  {
   "cell_type": "code",
   "execution_count": 5,
   "metadata": {},
   "outputs": [
    {
     "name": "stdout",
     "output_type": "stream",
     "text": [
      "Populating the interactive namespace from numpy and matplotlib\n"
     ]
    },
    {
     "data": {
      "image/png": "[encoded data removed]",
      "text/plain": [
       "<matplotlib.figure.Figure at 0x7fbfe51349d0>"
      ]
     },
     "metadata": {},
     "output_type": "display_data"
    }
   ],
   "source": [
    "%pylab inline\n",
    "import matplotlib.pyplot as plt\n",
    "\n",
    "words = [w[0] for w in sortedOutput]\n",
    "y_pos = range(len(sortedOutput))\n",
    "frequency = [w[1] for w in sortedOutput]\n",
    "\n",
    "plt.barh(y_pos, frequency[::-1], align='center', alpha=0.4)\n",
    "plt.yticks(y_pos, words[::-1])\n",
    "plt.xlabel('Frequency')\n",
    "plt.ylabel('Words')\n",
    "\n",
    "plt.show()"
   ]
  },
  {
   "cell_type": "markdown",
   "metadata": {},
   "source": [
    "And now let's stop the spark backend"
   ]
  },
  {
   "cell_type": "code",
   "execution_count": 6,
   "metadata": {
    "collapsed": true
   },
   "outputs": [],
   "source": [
    "sc.stop()"
   ]
  }
 ],
 "metadata": {
  "kernelspec": {
   "display_name": "Python 3",
   "language": "python",
   "name": "python3"
  },
  "language_info": {
   "codemirror_mode": {
    "name": "ipython",
    "version": 3
   },
   "file_extension": ".py",
   "mimetype": "text/x-python",
   "name": "python",
   "nbconvert_exporter": "python",
   "pygments_lexer": "ipython3",
   "version": "3.6.3"
  }
 },
 "nbformat": 4,
 "nbformat_minor": 1
}
